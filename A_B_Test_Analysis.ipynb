{
 "cells": [
  {
   "cell_type": "code",
   "execution_count": 1,
   "id": "6912584d-4cdd-4a23-96df-3863ebf8195a",
   "metadata": {},
   "outputs": [],
   "source": [
    "import numpy as np\n",
    "import pandas as pd\n",
    "import warnings\n",
    "\n",
    "import statsmodels.stats.api as sms\n",
    "\n",
    "from scipy import stats as st\n"
   ]
  },
  {
   "cell_type": "code",
   "execution_count": 2,
   "id": "acafe478-71e3-4a73-b92d-dbbc6b379612",
   "metadata": {},
   "outputs": [],
   "source": [
    "warnings.filterwarnings(\"ignore\", category=FutureWarning)"
   ]
  },
  {
   "cell_type": "code",
   "execution_count": 3,
   "id": "38f57c4e-62ba-45f7-91f9-dcb1004a0d1f",
   "metadata": {},
   "outputs": [],
   "source": [
    "df = pd.read_csv('data/cookie_cats.csv')"
   ]
  },
  {
   "cell_type": "code",
   "execution_count": 4,
   "id": "6c76704f-a05c-44e7-a84f-35d59a52ab9e",
   "metadata": {},
   "outputs": [
    {
     "data": {
      "text/html": [
       "<div>\n",
       "<style scoped>\n",
       "    .dataframe tbody tr th:only-of-type {\n",
       "        vertical-align: middle;\n",
       "    }\n",
       "\n",
       "    .dataframe tbody tr th {\n",
       "        vertical-align: top;\n",
       "    }\n",
       "\n",
       "    .dataframe thead th {\n",
       "        text-align: right;\n",
       "    }\n",
       "</style>\n",
       "<table border=\"1\" class=\"dataframe\">\n",
       "  <thead>\n",
       "    <tr style=\"text-align: right;\">\n",
       "      <th></th>\n",
       "      <th>userid</th>\n",
       "      <th>version</th>\n",
       "      <th>sum_gamerounds</th>\n",
       "      <th>retention_1</th>\n",
       "      <th>retention_7</th>\n",
       "    </tr>\n",
       "  </thead>\n",
       "  <tbody>\n",
       "    <tr>\n",
       "      <th>0</th>\n",
       "      <td>116</td>\n",
       "      <td>gate_30</td>\n",
       "      <td>3</td>\n",
       "      <td>False</td>\n",
       "      <td>False</td>\n",
       "    </tr>\n",
       "    <tr>\n",
       "      <th>1</th>\n",
       "      <td>337</td>\n",
       "      <td>gate_30</td>\n",
       "      <td>38</td>\n",
       "      <td>True</td>\n",
       "      <td>False</td>\n",
       "    </tr>\n",
       "    <tr>\n",
       "      <th>2</th>\n",
       "      <td>377</td>\n",
       "      <td>gate_40</td>\n",
       "      <td>165</td>\n",
       "      <td>True</td>\n",
       "      <td>False</td>\n",
       "    </tr>\n",
       "    <tr>\n",
       "      <th>3</th>\n",
       "      <td>483</td>\n",
       "      <td>gate_40</td>\n",
       "      <td>1</td>\n",
       "      <td>False</td>\n",
       "      <td>False</td>\n",
       "    </tr>\n",
       "    <tr>\n",
       "      <th>4</th>\n",
       "      <td>488</td>\n",
       "      <td>gate_40</td>\n",
       "      <td>179</td>\n",
       "      <td>True</td>\n",
       "      <td>True</td>\n",
       "    </tr>\n",
       "    <tr>\n",
       "      <th>...</th>\n",
       "      <td>...</td>\n",
       "      <td>...</td>\n",
       "      <td>...</td>\n",
       "      <td>...</td>\n",
       "      <td>...</td>\n",
       "    </tr>\n",
       "    <tr>\n",
       "      <th>90184</th>\n",
       "      <td>9999441</td>\n",
       "      <td>gate_40</td>\n",
       "      <td>97</td>\n",
       "      <td>True</td>\n",
       "      <td>False</td>\n",
       "    </tr>\n",
       "    <tr>\n",
       "      <th>90185</th>\n",
       "      <td>9999479</td>\n",
       "      <td>gate_40</td>\n",
       "      <td>30</td>\n",
       "      <td>False</td>\n",
       "      <td>False</td>\n",
       "    </tr>\n",
       "    <tr>\n",
       "      <th>90186</th>\n",
       "      <td>9999710</td>\n",
       "      <td>gate_30</td>\n",
       "      <td>28</td>\n",
       "      <td>True</td>\n",
       "      <td>False</td>\n",
       "    </tr>\n",
       "    <tr>\n",
       "      <th>90187</th>\n",
       "      <td>9999768</td>\n",
       "      <td>gate_40</td>\n",
       "      <td>51</td>\n",
       "      <td>True</td>\n",
       "      <td>False</td>\n",
       "    </tr>\n",
       "    <tr>\n",
       "      <th>90188</th>\n",
       "      <td>9999861</td>\n",
       "      <td>gate_40</td>\n",
       "      <td>16</td>\n",
       "      <td>False</td>\n",
       "      <td>False</td>\n",
       "    </tr>\n",
       "  </tbody>\n",
       "</table>\n",
       "<p>90189 rows × 5 columns</p>\n",
       "</div>"
      ],
      "text/plain": [
       "        userid  version  sum_gamerounds  retention_1  retention_7\n",
       "0          116  gate_30               3        False        False\n",
       "1          337  gate_30              38         True        False\n",
       "2          377  gate_40             165         True        False\n",
       "3          483  gate_40               1        False        False\n",
       "4          488  gate_40             179         True         True\n",
       "...        ...      ...             ...          ...          ...\n",
       "90184  9999441  gate_40              97         True        False\n",
       "90185  9999479  gate_40              30        False        False\n",
       "90186  9999710  gate_30              28         True        False\n",
       "90187  9999768  gate_40              51         True        False\n",
       "90188  9999861  gate_40              16        False        False\n",
       "\n",
       "[90189 rows x 5 columns]"
      ]
     },
     "execution_count": 4,
     "metadata": {},
     "output_type": "execute_result"
    }
   ],
   "source": [
    "df"
   ]
  },
  {
   "cell_type": "code",
   "execution_count": 5,
   "id": "07487274-8ad9-408d-bb69-0b1040ae7217",
   "metadata": {},
   "outputs": [
    {
     "data": {
      "text/plain": [
       "userid             int64\n",
       "version           object\n",
       "sum_gamerounds     int64\n",
       "retention_1         bool\n",
       "retention_7         bool\n",
       "dtype: object"
      ]
     },
     "execution_count": 5,
     "metadata": {},
     "output_type": "execute_result"
    }
   ],
   "source": [
    "df.dtypes"
   ]
  },
  {
   "cell_type": "code",
   "execution_count": 6,
   "id": "917aece7-dcab-4f8a-b36a-6fd2c69e72df",
   "metadata": {},
   "outputs": [
    {
     "data": {
      "text/plain": [
       "userid            False\n",
       "version           False\n",
       "sum_gamerounds    False\n",
       "retention_1       False\n",
       "retention_7       False\n",
       "dtype: bool"
      ]
     },
     "execution_count": 6,
     "metadata": {},
     "output_type": "execute_result"
    }
   ],
   "source": [
    "df.isna().any()"
   ]
  },
  {
   "cell_type": "markdown",
   "id": "2b625d2f-e933-4943-8670-08f57b0073b6",
   "metadata": {},
   "source": [
    "#### - Checking whether there are no duplicates by 'userid'"
   ]
  },
  {
   "cell_type": "code",
   "execution_count": 7,
   "id": "ffce93f0-ad4a-4274-bc52-a449a9ed782c",
   "metadata": {},
   "outputs": [
    {
     "name": "stdout",
     "output_type": "stream",
     "text": [
      "There is 0 users that occur multiple times in the dataset\n"
     ]
    }
   ],
   "source": [
    "session_counts = df['userid'].value_counts(ascending=False)\n",
    "multi_users = session_counts[session_counts > 1].count()\n",
    "\n",
    "print(f'There is {multi_users} users that occur multiple times in the dataset')"
   ]
  },
  {
   "cell_type": "markdown",
   "id": "2048994b-ce08-4202-bee1-e0f3fc39d607",
   "metadata": {},
   "source": [
    "#### -Calculating the main conversion rates"
   ]
  },
  {
   "cell_type": "code",
   "execution_count": 8,
   "id": "a8177e3e-bb94-4d88-a170-71e5c6d9b4fc",
   "metadata": {},
   "outputs": [
    {
     "data": {
      "text/html": [
       "<div>\n",
       "<style scoped>\n",
       "    .dataframe tbody tr th:only-of-type {\n",
       "        vertical-align: middle;\n",
       "    }\n",
       "\n",
       "    .dataframe tbody tr th {\n",
       "        vertical-align: top;\n",
       "    }\n",
       "\n",
       "    .dataframe thead th {\n",
       "        text-align: right;\n",
       "    }\n",
       "</style>\n",
       "<table border=\"1\" class=\"dataframe\">\n",
       "  <thead>\n",
       "    <tr style=\"text-align: right;\">\n",
       "      <th></th>\n",
       "      <th>conversion_rate</th>\n",
       "      <th>std_deviation</th>\n",
       "      <th>std_error</th>\n",
       "    </tr>\n",
       "    <tr>\n",
       "      <th>version</th>\n",
       "      <th></th>\n",
       "      <th></th>\n",
       "      <th></th>\n",
       "    </tr>\n",
       "  </thead>\n",
       "  <tbody>\n",
       "    <tr>\n",
       "      <th>gate_30</th>\n",
       "      <td>0.190201</td>\n",
       "      <td>0.392460</td>\n",
       "      <td>0.001856</td>\n",
       "    </tr>\n",
       "    <tr>\n",
       "      <th>gate_40</th>\n",
       "      <td>0.182000</td>\n",
       "      <td>0.385845</td>\n",
       "      <td>0.001809</td>\n",
       "    </tr>\n",
       "  </tbody>\n",
       "</table>\n",
       "</div>"
      ],
      "text/plain": [
       "         conversion_rate  std_deviation  std_error\n",
       "version                                           \n",
       "gate_30         0.190201       0.392460   0.001856\n",
       "gate_40         0.182000       0.385845   0.001809"
      ]
     },
     "execution_count": 8,
     "metadata": {},
     "output_type": "execute_result"
    }
   ],
   "source": [
    "conversion_rates = df.groupby('version')['retention_7']\n",
    "std_p = lambda x: np.std(x)              \n",
    "se_p = lambda x: st.sem(x)            \n",
    "\n",
    "conversion_rates = conversion_rates.agg(['mean', std_p, se_p])\n",
    "conversion_rates.columns = ['conversion_rate', 'std_deviation', 'std_error']\n",
    "conversion_rates"
   ]
  },
  {
   "cell_type": "markdown",
   "id": "e01b456f-b367-4ac1-b4c2-5db01c8a8a84",
   "metadata": {},
   "source": [
    "### - Testing (Z-Test)"
   ]
  },
  {
   "cell_type": "markdown",
   "id": "f5cae0b6-c06a-4f16-9d8f-afbf93f3f1e2",
   "metadata": {},
   "source": [
    "H0: the 'gate_30' version maintains retention at the same level as the 'gate_40' version seven days after installing the game.  \n",
    "H1: the 'gate_30' version maintains better or wors retention than the 'gate_40' version seven days after installing the game."
   ]
  },
  {
   "cell_type": "code",
   "execution_count": 9,
   "id": "3bd0e9e1-2755-42c7-827e-ccc5ac94ae72",
   "metadata": {},
   "outputs": [],
   "source": [
    "number_of_observations = df.groupby('version')['userid'].count()"
   ]
  },
  {
   "cell_type": "code",
   "execution_count": 10,
   "id": "e2bc769d-3dd9-4552-9104-fd7ea3547ae8",
   "metadata": {},
   "outputs": [
    {
     "data": {
      "text/plain": [
       "44700"
      ]
     },
     "metadata": {},
     "output_type": "display_data"
    },
    {
     "data": {
      "text/plain": [
       "45489"
      ]
     },
     "metadata": {},
     "output_type": "display_data"
    }
   ],
   "source": [
    "n_control = number_of_observations.loc['gate_30']\n",
    "n_treat = number_of_observations.loc['gate_40']\n",
    "display(n_control, n_treat)"
   ]
  },
  {
   "cell_type": "code",
   "execution_count": 11,
   "id": "282a0112-cbc0-4058-a467-14949ff8018d",
   "metadata": {},
   "outputs": [
    {
     "data": {
      "text/plain": [
       "(8502, 8279)"
      ]
     },
     "execution_count": 11,
     "metadata": {},
     "output_type": "execute_result"
    }
   ],
   "source": [
    "observed_values = pd.crosstab(df[\"version\"], df[\"retention_7\"])\n",
    "successes = (observed_values.loc['gate_30'][1], observed_values.loc['gate_40'][1])\n",
    "successes"
   ]
  },
  {
   "cell_type": "code",
   "execution_count": 12,
   "id": "03c748d6-75e0-4589-8157-8b89698b7e9f",
   "metadata": {},
   "outputs": [],
   "source": [
    "alpha=0.05"
   ]
  },
  {
   "cell_type": "code",
   "execution_count": 13,
   "id": "bc1cbf25-266d-436e-b218-c05ee8d24bfc",
   "metadata": {},
   "outputs": [],
   "source": [
    "z_stat, pval = sms.proportions_ztest(successes, [n_control, n_treat])"
   ]
  },
  {
   "cell_type": "code",
   "execution_count": 14,
   "id": "ff5eaef1-fc2c-4a80-9ae1-1e220a585b4a",
   "metadata": {},
   "outputs": [],
   "source": [
    "(lower_con, lower_treat), (upper_con, upper_treat) = sms.proportion_confint(successes, [n_control, n_treat], alpha=alpha)"
   ]
  },
  {
   "cell_type": "code",
   "execution_count": 15,
   "id": "2ab77f61-2850-4b46-8d6b-07ba7b3f85ef",
   "metadata": {},
   "outputs": [
    {
     "name": "stdout",
     "output_type": "stream",
     "text": [
      "z statistic: 3.16\n",
      "p-value: 0.002\n",
      "95% Confidence Interval for the control group: [0.187, 0.194]\n",
      "95% Confidence Interval for the treatment group: [0.178, 0.186]\n",
      "Reject H0\n"
     ]
    }
   ],
   "source": [
    "print(f'z statistic: {z_stat:.2f}')\n",
    "print(f'p-value: {pval:.3f}')\n",
    "print(f'95% Confidence Interval for the control group: [{lower_con:.3f}, {upper_con:.3f}]')\n",
    "print(f'95% Confidence Interval for the treatment group: [{lower_treat:.3f}, {upper_treat:.3f}]')\n",
    "\n",
    "if(pval < alpha):\n",
    "    print(\"Reject H0\")\n",
    "else:\n",
    "    print(\"H0 fail to reject\")"
   ]
  },
  {
   "cell_type": "markdown",
   "id": "d1edbff6-e546-489a-8993-751ac7a82964",
   "metadata": {},
   "source": [
    "#### Conclusion:  \n",
    "Based on the results of the conducted test, we can conclude that the difference between the conversion rates for the Control and Test groups is statistically significant. Additionally, calculations of confidence intervals indicate that they do not overlap. Furthermore, upon examining the conversion rate values for both groups, we can infer that the implemented changes resulted in a poorer user retention outcome in Test group. Therefore, there is no justification for implementing this change for all users."
   ]
  },
  {
   "cell_type": "markdown",
   "id": "9e69b687-848e-4d2a-94be-32a51b763750",
   "metadata": {},
   "source": [
    "### - Testing (Chi-square Test)"
   ]
  },
  {
   "cell_type": "markdown",
   "id": "b3656f4f-a8c0-4219-a663-f18b7bf0af8d",
   "metadata": {},
   "source": [
    "H0: the 'retention_7' value doesn't depend on the game version  \n",
    "H1: there is dependency between the game version and 'retention_7' value"
   ]
  },
  {
   "cell_type": "code",
   "execution_count": 16,
   "id": "0c72c934-e40b-414e-b25f-eba9d404235d",
   "metadata": {},
   "outputs": [],
   "source": [
    "alpha = 0.05"
   ]
  },
  {
   "cell_type": "code",
   "execution_count": 17,
   "id": "e5f23f57-484b-4a49-b1d0-a19d0d8181f6",
   "metadata": {},
   "outputs": [],
   "source": [
    "res = st.chi2_contingency(observed_values)\n"
   ]
  },
  {
   "cell_type": "code",
   "execution_count": 18,
   "id": "6ce573f9-66fe-484c-9e49-f470887a6edd",
   "metadata": {},
   "outputs": [
    {
     "name": "stdout",
     "output_type": "stream",
     "text": [
      "statistic: 9.96\n",
      "p-value: 0.002\n",
      "Reject H0\n"
     ]
    }
   ],
   "source": [
    "print(f'statistic: {res.statistic:.2f}')\n",
    "print(f'p-value: {res.pvalue:.3f}')\n",
    "\n",
    "if(res.pvalue < alpha):\n",
    "    print(\"Reject H0\")\n",
    "else:\n",
    "    print(\"H0 fail to reject\")"
   ]
  },
  {
   "cell_type": "markdown",
   "id": "cb03bbb2-1cbc-4108-b29c-a970a2a6930e",
   "metadata": {},
   "source": [
    "#### Conclusion:  \n",
    "According to the test results there is dependency between the game version and 'retention_7' value"
   ]
  },
  {
   "cell_type": "code",
   "execution_count": null,
   "id": "3aa14f3f-8fe7-498a-8359-fa69f0100b15",
   "metadata": {},
   "outputs": [],
   "source": []
  }
 ],
 "metadata": {
  "kernelspec": {
   "display_name": "Python 3 (ipykernel)",
   "language": "python",
   "name": "python3"
  },
  "language_info": {
   "codemirror_mode": {
    "name": "ipython",
    "version": 3
   },
   "file_extension": ".py",
   "mimetype": "text/x-python",
   "name": "python",
   "nbconvert_exporter": "python",
   "pygments_lexer": "ipython3",
   "version": "3.10.12"
  }
 },
 "nbformat": 4,
 "nbformat_minor": 5
}
